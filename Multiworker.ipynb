{
 "cells": [
  {
   "cell_type": "markdown",
   "id": "f3aadfbb",
   "metadata": {},
   "source": [
    "## Training CNN on Multiple Machines"
   ]
  },
  {
   "cell_type": "code",
   "execution_count": null,
   "id": "d59351a0",
   "metadata": {},
   "outputs": [],
   "source": [
    "from keras.models import Sequential\n",
    "from keras.layers import Conv2D, MaxPooling2D, InputLayer, Reshape, Rescaling\n",
    "from keras.layers import Flatten, Dense\n",
    "import tensorflow as tf\n",
    "import json\n",
    "import os\n",
    "\n",
    "# Force using CPU only by making GPU invisible\n",
    "os.environ[\"CUDA_VISIBLE_DEVICES\"] = \"-1\"\n",
    "\n",
    "# TF_CONFIG envrionment variable declaration\n",
    "os.environ[\"TF_CONFIG\"] = json.dumps({\n",
    "    'cluster': {\n",
    "        'worker': [\"192.168.10.1:12345\", \"192.168.10.2:12345\"]\n",
    "    },\n",
    "    'task': {'type': 'worker', 'index': 1}\n",
    "})\n",
    "\n",
    "# Declaring Strategy before insering Data and creating Model\n",
    "strategy = tf.distribute.MultiWorkerMirroredStrategy()"
   ]
  },
  {
   "cell_type": "code",
   "execution_count": null,
   "id": "bf8b950d",
   "metadata": {},
   "outputs": [],
   "source": [
    "# Insert Dataset from Hard-Drive\n",
    "import tensorflow as tf\n",
    "\n",
    "batch_size = 32\n",
    "img_height = 128\n",
    "img_width = 128\n",
    "train_dir = \".\\\\rps_dataset\\\\rps\"\n",
    "test_dir = \".\\\\rps_dataset\\\\rps-test-set\"\n",
    "valid_dir = \".\\\\rps_dataset\\\\rps-validation\"\n",
    "\n",
    "# Training Dataset\n",
    "train_ds = tf.keras.utils.image_dataset_from_directory(\n",
    "  train_dir,\n",
    "  subset=None,\n",
    "  interpolation=\"bilinear\",\n",
    "  follow_links=False,\n",
    "  image_size=(img_height, img_width),\n",
    "  batch_size=batch_size)\n",
    "\n",
    "# Test Dataset\n",
    "test_ds = tf.keras.utils.image_dataset_from_directory(\n",
    "  test_dir,\n",
    "  subset=None,\n",
    "  interpolation=\"bilinear\",\n",
    "  follow_links=False,\n",
    "  image_size=(img_height, img_width),\n",
    "  batch_size=batch_size)\n",
    "\n",
    "# Validation Dataset\n",
    "valid_ds = tf.keras.utils.image_dataset_from_directory(\n",
    "  valid_dir,\n",
    "  subset=None,\n",
    "  interpolation=\"bilinear\",\n",
    "  follow_links=False,\n",
    "  image_size=(img_height, img_width),\n",
    "  batch_size=batch_size)"
   ]
  },
  {
   "cell_type": "code",
   "execution_count": null,
   "id": "86d7faea",
   "metadata": {},
   "outputs": [],
   "source": [
    "# Create and Compile Model\n",
    "with strategy.scope():\n",
    "    myCNN = Sequential()\n",
    "    myCNN.add(Rescaling(1./255))\n",
    "    myCNN.add(InputLayer(input_shape=(128, 128, 3)))\n",
    "    myCNN.add(Conv2D(64, (3, 3), padding='same', activation='relu'))\n",
    "    myCNN.add(MaxPooling2D(pool_size=(2,2),strides=(2,2)))\n",
    "    myCNN.add(Conv2D(64, (3, 3), padding='same', activation='relu'))\n",
    "    myCNN.add(MaxPooling2D(pool_size=(2,2),strides=(2,2)))\n",
    "    myCNN.add(Conv2D(64, (3, 3), padding='same', activation='relu'))\n",
    "    myCNN.add(MaxPooling2D(pool_size=(2,2),strides=(2,2)))\n",
    "    myCNN.add(Conv2D(64, (3, 3), padding='same', activation='relu'))\n",
    "    myCNN.add(MaxPooling2D(pool_size=(2,2),strides=(2,2)))\n",
    "    myCNN.add(Flatten())\n",
    "    myCNN.add(Dense(128, activation='relu'))\n",
    "    myCNN.add(Dense(128, activation='relu'))\n",
    "    myCNN.add(Dense(128, activation='relu'))\n",
    "    myCNN.add(Dense(3, activation='softmax'))\n",
    "    myCNN.compile(optimizer='adam',\n",
    "                  loss='sparse_categorical_crossentropy',\n",
    "                  metrics=['accuracy'])\n",
    "    \n",
    "# Training and Evaluating Model\n",
    "myCNN.fit(train_ds, validation_data = valid_ds, epochs = 5)\n",
    "myCNN.evaluate(test_ds)"
   ]
  },
  {
   "cell_type": "code",
   "execution_count": null,
   "id": "b38a79cd",
   "metadata": {},
   "outputs": [],
   "source": []
  }
 ],
 "metadata": {
  "kernelspec": {
   "display_name": "Python 3",
   "language": "python",
   "name": "python3"
  },
  "language_info": {
   "codemirror_mode": {
    "name": "ipython",
    "version": 3
   },
   "file_extension": ".py",
   "mimetype": "text/x-python",
   "name": "python",
   "nbconvert_exporter": "python",
   "pygments_lexer": "ipython3",
   "version": "3.8.8"
  }
 },
 "nbformat": 4,
 "nbformat_minor": 5
}
