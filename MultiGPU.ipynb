{
 "cells": [
  {
   "cell_type": "markdown",
   "id": "dc37fb98",
   "metadata": {},
   "source": [
    "## Multiple GPU - building a CNN"
   ]
  },
  {
   "cell_type": "raw",
   "id": "0b2eb681",
   "metadata": {},
   "source": [
    "Building CNN on multiple GPU in one node."
   ]
  },
  {
   "cell_type": "code",
   "execution_count": null,
   "id": "5872aab2",
   "metadata": {},
   "outputs": [],
   "source": [
    "from keras.models import Sequential\n",
    "from keras.layers import Conv2D, MaxPooling2D\n",
    "from keras.layers import Flatten, Dense\n",
    "import tensorflow as tf\n",
    "\n",
    "tf.debugging.set_log_device_placement(True)\n",
    "gpus = tf.config.list_physical_devices('GPU')\n",
    "strategy = tf.distribute.MirroredStrategy(gpus)"
   ]
  },
  {
   "cell_type": "code",
   "execution_count": null,
   "id": "aff2b0c7",
   "metadata": {},
   "outputs": [],
   "source": [
    "# Building empty VGG-16\n",
    "with strategy.scope():\n",
    "    myCNN = Sequential()\n",
    "    myCNN.add(Conv2D(64, (3, 3), input_shape=(224, 224, 3), padding='same', activation='relu'))\n",
    "    myCNN.add(Conv2D(64, (3, 3), padding='same', activation='relu'))\n",
    "    myCNN.add(MaxPooling2D(pool_size=(2,2),strides=(2,2)))\n",
    "    myCNN.add(Conv2D(128, (3, 3), padding='same', activation='relu'))\n",
    "    myCNN.add(Conv2D(128, (3, 3), padding='same', activation='relu'))\n",
    "    myCNN.add(MaxPooling2D(pool_size=(2,2),strides=(2,2)))\n",
    "    myCNN.add(Conv2D(256, (3, 3), padding='same', activation='relu'))\n",
    "    myCNN.add(Conv2D(256, (3, 3), padding='same', activation='relu'))\n",
    "    myCNN.add(Conv2D(256, (3, 3), padding='same', activation='relu'))\n",
    "    myCNN.add(MaxPooling2D(pool_size=(2,2),strides=(2,2)))\n",
    "    myCNN.add(Conv2D(512, (3, 3), padding='same', activation='relu'))\n",
    "    myCNN.add(Conv2D(512, (3, 3), padding='same', activation='relu'))\n",
    "    myCNN.add(Conv2D(512, (3, 3), padding='same', activation='relu'))\n",
    "    myCNN.add(MaxPooling2D(pool_size=(2,2),strides=(2,2)))\n",
    "    myCNN.add(Conv2D(512, (3, 3), padding='same', activation='relu'))\n",
    "    myCNN.add(Conv2D(512, (3, 3), padding='same', activation='relu'))\n",
    "    myCNN.add(Conv2D(512, (3, 3), padding='same', activation='relu'))\n",
    "    myCNN.add(MaxPooling2D(pool_size=(2,2),strides=(2,2)))\n",
    "    myCNN.add(Flatten())\n",
    "    myCNN.add(Dense(4096, activation='relu'))\n",
    "    myCNN.add(Dense(4096, activation='relu'))\n",
    "    myCNN.add(Dense(1000, activation='softmax'))\n",
    "    myCNN.compile(optimizer='adam', loss='sparse_crossentropy', metrics=['accuracy'])"
   ]
  },
  {
   "cell_type": "code",
   "execution_count": null,
   "id": "5db64411",
   "metadata": {},
   "outputs": [],
   "source": []
  }
 ],
 "metadata": {
  "kernelspec": {
   "display_name": "Python 3",
   "language": "python",
   "name": "python3"
  },
  "language_info": {
   "codemirror_mode": {
    "name": "ipython",
    "version": 3
   },
   "file_extension": ".py",
   "mimetype": "text/x-python",
   "name": "python",
   "nbconvert_exporter": "python",
   "pygments_lexer": "ipython3",
   "version": "3.8.8"
  }
 },
 "nbformat": 4,
 "nbformat_minor": 5
}
